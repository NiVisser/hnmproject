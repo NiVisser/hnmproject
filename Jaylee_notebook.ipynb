{
 "cells": [
  {
   "cell_type": "markdown",
   "metadata": {
    "id": "qofDNHo6BNQu",
    "nbgrader": {
     "grade": false,
     "grade_id": "cell-47fb62c0cb045bbe",
     "locked": true,
     "schema_version": 1,
     "solution": false
    }
   },
   "source": [
    "# Project GEVPRO (H&M) - MAIN\n",
    "\n",
    "We will work with the following dataset: \n",
    "Source: https://www.kaggle.com/competitions/h-and-m-personalized-fashion-recommendations/overview\n",
    "This dataset has been reduced to use less memory. Only sales data from > 08-01-2020 is selected. "
   ]
  },
  {
   "cell_type": "code",
   "execution_count": 26,
   "metadata": {
    "colab": {
     "base_uri": "https://localhost:8080/"
    },
    "id": "JYg2fp2UBNQy",
    "nbgrader": {
     "grade": false,
     "grade_id": "cell-27121c498ff67f14",
     "locked": true,
     "schema_version": 1,
     "solution": false
    },
    "outputId": "f0b8f49e-c01f-4a37-e212-d2995a088d2b"
   },
   "outputs": [],
   "source": [
    "# Used libaries:\n",
    "%matplotlib inline\n",
    "import pandas as pd"
   ]
  },
  {
   "cell_type": "markdown",
   "metadata": {},
   "source": [
    "### 0.  Research questions:\n",
    "We try to answer the following research questions:\n",
    "1. \n",
    "2. \n",
    "3. \n",
    "\n",
    "\n"
   ]
  },
  {
   "cell_type": "markdown",
   "metadata": {},
   "source": [
    "### 1.  Reducing the dataset: \n",
    "This is only ran on the default dataset (transactions_train.csv) found on kaggle to reduce the memory size to 91.3mb (instead of 3+gb)."
   ]
  },
  {
   "cell_type": "code",
   "execution_count": 56,
   "metadata": {
    "colab": {
     "base_uri": "https://localhost:8080/"
    },
    "id": "fE-wygVlBNQ0",
    "outputId": "e70dbf09-5aac-4d67-b6e3-8ee41d7a1730"
   },
   "outputs": [
    {
     "name": "stdout",
     "output_type": "stream",
     "text": [
      "<class 'pandas.core.frame.DataFrame'>\n",
      "Int64Index: 1993503 entries, 29794821 to 31788323\n",
      "Data columns (total 5 columns):\n",
      " #   Column            Dtype         \n",
      "---  ------            -----         \n",
      " 0   t_dat             datetime64[ns]\n",
      " 1   customer_id       object        \n",
      " 2   article_id        int64         \n",
      " 3   price             float64       \n",
      " 4   sales_channel_id  int64         \n",
      "dtypes: datetime64[ns](1), float64(1), int64(2), object(1)\n",
      "memory usage: 91.3+ MB\n"
     ]
    }
   ],
   "source": [
    "# df = pd.read_csv('data/transactions_train.csv', low_memory=False)\n",
    "# df['t_dat'] = pd.to_datetime(df['t_dat'])\n",
    "# mask = df['t_dat'] > '08-01-2020'\n",
    "# df_reduced = df.loc[mask]\n",
    "# df_reduced.to_csv('C:\\\\Users\\\\Nils\\\\Jupyter Notebooks\\\\Project_gevpro\\\\transactions_reduced.csv')"
   ]
  },
  {
   "cell_type": "code",
   "execution_count": 61,
   "metadata": {
    "colab": {
     "base_uri": "https://localhost:8080/",
     "height": 300
    },
    "id": "tt1B9_GsBNQ1",
    "nbgrader": {
     "grade": false,
     "grade_id": "cell-7382b3537acda224",
     "locked": true,
     "schema_version": 1,
     "solution": false
    },
    "outputId": "808ba787-9d05-4f92-ad3f-a2f8416fa813"
   },
   "outputs": [],
   "source": [
    "# This loads the reduced transaction (sales) dataset.\n",
    "df = pd.read_csv('data/transactions_reduced.csv', low_memory=False)"
   ]
  },
  {
   "cell_type": "markdown",
   "metadata": {},
   "source": [
    "### 2. Exploring the data"
   ]
  },
  {
   "cell_type": "code",
   "execution_count": null,
   "metadata": {},
   "outputs": [],
   "source": []
  },
  {
   "cell_type": "code",
   "execution_count": null,
   "metadata": {},
   "outputs": [],
   "source": []
  }
 ],
 "metadata": {
  "colab": {
   "collapsed_sections": [],
   "name": "assignment3.ipynb",
   "provenance": []
  },
  "kernelspec": {
   "display_name": "Python 3 (ipykernel)",
   "language": "python",
   "name": "python3"
  },
  "language_info": {
   "codemirror_mode": {
    "name": "ipython",
    "version": 3
   },
   "file_extension": ".py",
   "mimetype": "text/x-python",
   "name": "python",
   "nbconvert_exporter": "python",
   "pygments_lexer": "ipython3",
   "version": "3.9.7"
  }
 },
 "nbformat": 4,
 "nbformat_minor": 1
}
