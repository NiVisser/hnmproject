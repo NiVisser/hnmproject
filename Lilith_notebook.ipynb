{
 "cells": [
  {
   "cell_type": "markdown",
   "metadata": {
    "id": "qofDNHo6BNQu",
    "nbgrader": {
     "grade": false,
     "grade_id": "cell-47fb62c0cb045bbe",
     "locked": true,
     "schema_version": 1,
     "solution": false
    }
   },
   "source": [
    "# Project GEVPRO (H&M) - MAIN\n",
    "\n",
    "We will work with the following dataset: \n",
    "Source: https://www.kaggle.com/competitions/h-and-m-personalized-fashion-recommendations/overview\n",
    "This dataset has been reduced to use less memory. Only sales data from > 08-01-2020 is selected. "
   ]
  },
  {
   "cell_type": "code",
   "execution_count": 3,
   "metadata": {
    "colab": {
     "base_uri": "https://localhost:8080/"
    },
    "id": "JYg2fp2UBNQy",
    "nbgrader": {
     "grade": false,
     "grade_id": "cell-27121c498ff67f14",
     "locked": true,
     "schema_version": 1,
     "solution": false
    },
    "outputId": "f0b8f49e-c01f-4a37-e212-d2995a088d2b"
   },
   "outputs": [
    {
     "data": {
      "text/plain": [
       "(1356119, 7)"
      ]
     },
     "execution_count": 3,
     "metadata": {},
     "output_type": "execute_result"
    }
   ],
   "source": [
    "# Used libaries:\n",
    "%matplotlib inline\n",
    "import pandas as pd\n",
    "import seaborn as sns\n",
    "df = pd.read_csv('data/customers.csv', low_memory=False)\n",
    "df = df.dropna(subset=['age', 'postal_code'])  # drop rows with missing values in this column\n",
    "df.shape"
   ]
  },
  {
   "cell_type": "markdown",
   "metadata": {},
   "source": [
    "### 0.  Research questions:\n",
    "We try to answer the following research questions:\n",
    "1. \n",
    "2. \n",
    "3. \n",
    "\n",
    "\n"
   ]
  },
  {
   "cell_type": "markdown",
   "metadata": {},
   "source": [
    "### 1.  Reducing the dataset: \n",
    "This is only ran on the default dataset (transactions_train.csv) found on kaggle to reduce the memory size to 91.3mb (instead of 3+gb)."
   ]
  },
  {
   "cell_type": "code",
   "execution_count": 4,
   "metadata": {
    "colab": {
     "base_uri": "https://localhost:8080/"
    },
    "id": "fE-wygVlBNQ0",
    "outputId": "e70dbf09-5aac-4d67-b6e3-8ee41d7a1730"
   },
   "outputs": [],
   "source": [
    "# df = pd.read_csv('data/transactions_train.csv', low_memory=False)\n",
    "# df['t_dat'] = pd.to_datetime(df['t_dat'])\n",
    "# mask = df['t_dat'] > '08-01-2020'\n",
    "# df_reduced = df.loc[mask]\n",
    "# df_reduced.to_csv('C:\\\\Users\\\\Nils\\\\Jupyter Notebooks\\\\Project_gevpro\\\\transactions_reduced.csv')"
   ]
  },
  {
   "cell_type": "code",
   "execution_count": 5,
   "metadata": {
    "colab": {
     "base_uri": "https://localhost:8080/",
     "height": 300
    },
    "id": "tt1B9_GsBNQ1",
    "nbgrader": {
     "grade": false,
     "grade_id": "cell-7382b3537acda224",
     "locked": true,
     "schema_version": 1,
     "solution": false
    },
    "outputId": "808ba787-9d05-4f92-ad3f-a2f8416fa813"
   },
   "outputs": [],
   "source": [
    "# This loads the reduced transaction (sales) dataset.\n",
    "df = pd.read_csv('data/transactions_reduced.csv', low_memory=False)"
   ]
  },
  {
   "cell_type": "markdown",
   "metadata": {},
   "source": [
    "### 2. Exploring the data"
   ]
  },
  {
   "cell_type": "code",
   "execution_count": 6,
   "metadata": {},
   "outputs": [],
   "source": [
    "df = pd.read_csv('data/customers.csv', low_memory=False)"
   ]
  },
  {
   "cell_type": "markdown",
   "metadata": {},
   "source": [
    "What is the most frequent age of H&M customers?"
   ]
  },
  {
   "cell_type": "code",
   "execution_count": 7,
   "metadata": {},
   "outputs": [
    {
     "data": {
      "text/plain": [
       "21.0    67530\n",
       "24.0    56124\n",
       "20.0    55196\n",
       "25.0    54989\n",
       "23.0    54867\n",
       "26.0    53658\n",
       "22.0    51869\n",
       "27.0    49134\n",
       "28.0    44294\n",
       "29.0    40697\n",
       "Name: age, dtype: int64"
      ]
     },
     "execution_count": 7,
     "metadata": {},
     "output_type": "execute_result"
    }
   ],
   "source": [
    "#What are the 10 most frequent ages?\n",
    "df[\"age\"].value_counts().head(10)\n",
    "\n",
    "#The most frequent age is 21, and the most people shopping at H&M are between 20 and 30\n"
   ]
  },
  {
   "cell_type": "markdown",
   "metadata": {},
   "source": [
    "What is the distribution of the ages of H&M customers? "
   ]
  },
  {
   "cell_type": "code",
   "execution_count": 8,
   "metadata": {},
   "outputs": [
    {
     "data": {
      "image/png": "[encoded data removed]",
      "text/plain": [
       "<Figure size 432x288 with 1 Axes>"
      ]
     },
     "metadata": {},
     "output_type": "display_data"
    }
   ],
   "source": [
    "#What is the distribution of age?\n",
    "sns.set_theme(style='darkgrid')\n",
    "ax = sns.histplot(x=\"age\", data=df, color='green', bins=40)\n",
    "\n",
    "#the distribution of age centers around 20/30 and 45/55."
   ]
  },
  {
   "cell_type": "markdown",
   "metadata": {},
   "source": [
    "What is the most frequent postal code? "
   ]
  },
  {
   "cell_type": "code",
   "execution_count": 9,
   "metadata": {},
   "outputs": [
    {
     "data": {
      "text/plain": [
       "2c29ae653a9282cce4151bd87643c907644e09541abc28ae87dea0d1f6603b1c    120303\n",
       "cc4ed85e30f4977dae47662ddc468cd2eec11472de6fac5ec985080fd92243c8       261\n",
       "714976379549eb90aae4a71bca6c7402cc646ae7c40f6c1cb91d4b5a18623fc1       159\n",
       "7c1fa3b0ec1d37ce2c3f34f63bd792f3b4494f324b6be5d1e4ba6a75456b96a7       157\n",
       "5b7eb31eabebd3277de632b82267286d847fd5d44287ee150bb4206b48439145       156\n",
       "1f5bd429acc88fbbf24de844a59e438704aa8761bc7b99fd977cad297c50b74c       154\n",
       "9d5787501bf1c77592156ba51eab13f4a2670c807686431a9e22a69090b02358       141\n",
       "a1959a16bf167858c93a66ec2a330644512b25fb10f97eee2058549885af4dbd       138\n",
       "087a46b65170845b4a55226ff1eb748ce7843d4b637cbe17f6bfbd1e645d2ffb       134\n",
       "4d22901a97bd952bb92cdd31b38c39b41dd3250a735cabdfac1503eb405b807d       132\n",
       "Name: postal_code, dtype: int64"
      ]
     },
     "execution_count": 9,
     "metadata": {},
     "output_type": "execute_result"
    }
   ],
   "source": [
    "#what are the 10 most frequent postal codes\n",
    "df['postal_code'].value_counts().head(10)\n",
    "\n",
    "#the most frequent postal code appears to be a value that gives 120303"
   ]
  },
  {
   "cell_type": "markdown",
   "metadata": {},
   "source": [
    "How many customers have a club membership?"
   ]
  },
  {
   "cell_type": "code",
   "execution_count": 10,
   "metadata": {},
   "outputs": [
    {
     "data": {
      "image/png": "[encoded data removed]",
      "text/plain": [
       "<Figure size 432x288 with 1 Axes>"
      ]
     },
     "metadata": {},
     "output_type": "display_data"
    }
   ],
   "source": [
    "#how many customers have a club_membership?\n",
    "sns.set_theme(style='darkgrid')\n",
    "ax = sns.histplot(x=\"club_member_status\", data=df, color='green', bins=40)\n",
    "\n",
    "#The biggest part of the customers have a club membership"
   ]
  },
  {
   "cell_type": "markdown",
   "metadata": {},
   "source": [
    "What kind of fashion news frequency is most popular with what club membership?"
   ]
  },
  {
   "cell_type": "code",
   "execution_count": 11,
   "metadata": {},
   "outputs": [],
   "source": [
    "#uniting the values that all mean none but have different named values for this \n",
    "df.loc[~df['fashion_news_frequency'].isin(['Regularly', 'Monthly']), 'fashion_news_frequency'] = 'None'"
   ]
  },
  {
   "cell_type": "code",
   "execution_count": 12,
   "metadata": {},
   "outputs": [
    {
     "data": {
      "text/plain": [
       "array(['None', 'Regularly', 'Monthly'], dtype=object)"
      ]
     },
     "execution_count": 12,
     "metadata": {},
     "output_type": "execute_result"
    }
   ],
   "source": [
    "#showing the new values for fashion news frequency\n",
    "df['fashion_news_frequency'].unique()"
   ]
  },
  {
   "cell_type": "code",
   "execution_count": 13,
   "metadata": {},
   "outputs": [
    {
     "data": {
      "text/html": [
       "<div>\n",
       "<style scoped>\n",
       "    .dataframe tbody tr th:only-of-type {\n",
       "        vertical-align: middle;\n",
       "    }\n",
       "\n",
       "    .dataframe tbody tr th {\n",
       "        vertical-align: top;\n",
       "    }\n",
       "\n",
       "    .dataframe thead th {\n",
       "        text-align: right;\n",
       "    }\n",
       "</style>\n",
       "<table border=\"1\" class=\"dataframe\">\n",
       "  <thead>\n",
       "    <tr style=\"text-align: right;\">\n",
       "      <th>fashion_news_frequency</th>\n",
       "      <th>Monthly</th>\n",
       "      <th>None</th>\n",
       "      <th>Regularly</th>\n",
       "    </tr>\n",
       "    <tr>\n",
       "      <th>club_member_status</th>\n",
       "      <th></th>\n",
       "      <th></th>\n",
       "      <th></th>\n",
       "    </tr>\n",
       "  </thead>\n",
       "  <tbody>\n",
       "    <tr>\n",
       "      <th>ACTIVE</th>\n",
       "      <td>778</td>\n",
       "      <td>800409</td>\n",
       "      <td>471304</td>\n",
       "    </tr>\n",
       "    <tr>\n",
       "      <th>LEFT CLUB</th>\n",
       "      <td>0</td>\n",
       "      <td>459</td>\n",
       "      <td>8</td>\n",
       "    </tr>\n",
       "    <tr>\n",
       "      <th>PRE-CREATE</th>\n",
       "      <td>59</td>\n",
       "      <td>87114</td>\n",
       "      <td>5787</td>\n",
       "    </tr>\n",
       "  </tbody>\n",
       "</table>\n",
       "</div>"
      ],
      "text/plain": [
       "fashion_news_frequency  Monthly    None  Regularly\n",
       "club_member_status                                \n",
       "ACTIVE                      778  800409     471304\n",
       "LEFT CLUB                     0     459          8\n",
       "PRE-CREATE                   59   87114       5787"
      ]
     },
     "execution_count": 13,
     "metadata": {},
     "output_type": "execute_result"
    }
   ],
   "source": [
    "#the club_member_status against the fashion news frequency\n",
    "pd.crosstab(df['club_member_status'], df['fashion_news_frequency'])\n",
    "\n",
    "#There are no people that leave the club that have monthly news updates. \n",
    "#The people that have no news updates, which are the most people that leave the club, dont receive fashion news. \n",
    "#The most people have an active status but do not receive news updates. "
   ]
  },
  {
   "cell_type": "markdown",
   "metadata": {},
   "source": [
    "How many people receive fashion news? "
   ]
  },
  {
   "cell_type": "code",
   "execution_count": 15,
   "metadata": {},
   "outputs": [
    {
     "data": {
      "image/png": "[encoded data removed]",
      "text/plain": [
       "<Figure size 432x288 with 1 Axes>"
      ]
     },
     "metadata": {},
     "output_type": "display_data"
    }
   ],
   "source": [
    "# division of fashion_news_frequency\n",
    "sns.set_theme(style='darkgrid')\n",
    "ax = sns.histplot(x=\"fashion_news_frequency\", data=df, color='green', bins=40)\n",
    "\n",
    "#most people don't like to receive fashion news"
   ]
  },
  {
   "cell_type": "markdown",
   "metadata": {},
   "source": [
    "What is the spread of fashion news in contrast to club member status?"
   ]
  },
  {
   "cell_type": "code",
   "execution_count": null,
   "metadata": {},
   "outputs": [
    {
     "data": {
      "image/png": "[encoded data removed]",
      "text/plain": [
       "<Figure size 432x288 with 1 Axes>"
      ]
     },
     "metadata": {},
     "output_type": "display_data"
    }
   ],
   "source": [
    "# A visual representation of the fashion news frequency and the club member status\n",
    "fashion_status = sns.countplot(y='fashion_news_frequency', hue='club_member_status', data=df, palette=\"Set3\")"
   ]
  },
  {
   "cell_type": "markdown",
   "metadata": {},
   "source": [
    "What is the relation between receiving fashion news and the customers age?"
   ]
  },
  {
   "cell_type": "code",
   "execution_count": 16,
   "metadata": {},
   "outputs": [
    {
     "data": {
      "text/html": [
       "<div>\n",
       "<style scoped>\n",
       "    .dataframe tbody tr th:only-of-type {\n",
       "        vertical-align: middle;\n",
       "    }\n",
       "\n",
       "    .dataframe tbody tr th {\n",
       "        vertical-align: top;\n",
       "    }\n",
       "\n",
       "    .dataframe thead th {\n",
       "        text-align: right;\n",
       "    }\n",
       "</style>\n",
       "<table border=\"1\" class=\"dataframe\">\n",
       "  <thead>\n",
       "    <tr style=\"text-align: right;\">\n",
       "      <th>age</th>\n",
       "      <th>16.0</th>\n",
       "      <th>17.0</th>\n",
       "      <th>18.0</th>\n",
       "      <th>19.0</th>\n",
       "      <th>20.0</th>\n",
       "      <th>21.0</th>\n",
       "      <th>22.0</th>\n",
       "      <th>23.0</th>\n",
       "      <th>24.0</th>\n",
       "      <th>25.0</th>\n",
       "      <th>...</th>\n",
       "      <th>91.0</th>\n",
       "      <th>92.0</th>\n",
       "      <th>93.0</th>\n",
       "      <th>94.0</th>\n",
       "      <th>95.0</th>\n",
       "      <th>96.0</th>\n",
       "      <th>97.0</th>\n",
       "      <th>98.0</th>\n",
       "      <th>99.0</th>\n",
       "      <th>All</th>\n",
       "    </tr>\n",
       "    <tr>\n",
       "      <th>fashion_news_frequency</th>\n",
       "      <th></th>\n",
       "      <th></th>\n",
       "      <th></th>\n",
       "      <th></th>\n",
       "      <th></th>\n",
       "      <th></th>\n",
       "      <th></th>\n",
       "      <th></th>\n",
       "      <th></th>\n",
       "      <th></th>\n",
       "      <th></th>\n",
       "      <th></th>\n",
       "      <th></th>\n",
       "      <th></th>\n",
       "      <th></th>\n",
       "      <th></th>\n",
       "      <th></th>\n",
       "      <th></th>\n",
       "      <th></th>\n",
       "      <th></th>\n",
       "      <th></th>\n",
       "    </tr>\n",
       "  </thead>\n",
       "  <tbody>\n",
       "    <tr>\n",
       "      <th>Monthly</th>\n",
       "      <td>0</td>\n",
       "      <td>0</td>\n",
       "      <td>0</td>\n",
       "      <td>6</td>\n",
       "      <td>10</td>\n",
       "      <td>16</td>\n",
       "      <td>16</td>\n",
       "      <td>26</td>\n",
       "      <td>22</td>\n",
       "      <td>31</td>\n",
       "      <td>...</td>\n",
       "      <td>0</td>\n",
       "      <td>0</td>\n",
       "      <td>0</td>\n",
       "      <td>0</td>\n",
       "      <td>0</td>\n",
       "      <td>0</td>\n",
       "      <td>0</td>\n",
       "      <td>0</td>\n",
       "      <td>0</td>\n",
       "      <td>841</td>\n",
       "    </tr>\n",
       "    <tr>\n",
       "      <th>None</th>\n",
       "      <td>86</td>\n",
       "      <td>6405</td>\n",
       "      <td>16216</td>\n",
       "      <td>22646</td>\n",
       "      <td>33292</td>\n",
       "      <td>40891</td>\n",
       "      <td>31905</td>\n",
       "      <td>35318</td>\n",
       "      <td>37744</td>\n",
       "      <td>37778</td>\n",
       "      <td>...</td>\n",
       "      <td>12</td>\n",
       "      <td>10</td>\n",
       "      <td>4</td>\n",
       "      <td>2</td>\n",
       "      <td>8</td>\n",
       "      <td>3</td>\n",
       "      <td>3</td>\n",
       "      <td>5</td>\n",
       "      <td>8</td>\n",
       "      <td>879067</td>\n",
       "    </tr>\n",
       "    <tr>\n",
       "      <th>Regularly</th>\n",
       "      <td>75</td>\n",
       "      <td>2987</td>\n",
       "      <td>8107</td>\n",
       "      <td>15055</td>\n",
       "      <td>21894</td>\n",
       "      <td>26623</td>\n",
       "      <td>19948</td>\n",
       "      <td>19523</td>\n",
       "      <td>18358</td>\n",
       "      <td>17180</td>\n",
       "      <td>...</td>\n",
       "      <td>4</td>\n",
       "      <td>7</td>\n",
       "      <td>0</td>\n",
       "      <td>1</td>\n",
       "      <td>2</td>\n",
       "      <td>0</td>\n",
       "      <td>1</td>\n",
       "      <td>2</td>\n",
       "      <td>5</td>\n",
       "      <td>476211</td>\n",
       "    </tr>\n",
       "    <tr>\n",
       "      <th>All</th>\n",
       "      <td>161</td>\n",
       "      <td>9392</td>\n",
       "      <td>24323</td>\n",
       "      <td>37707</td>\n",
       "      <td>55196</td>\n",
       "      <td>67530</td>\n",
       "      <td>51869</td>\n",
       "      <td>54867</td>\n",
       "      <td>56124</td>\n",
       "      <td>54989</td>\n",
       "      <td>...</td>\n",
       "      <td>16</td>\n",
       "      <td>17</td>\n",
       "      <td>4</td>\n",
       "      <td>3</td>\n",
       "      <td>10</td>\n",
       "      <td>3</td>\n",
       "      <td>4</td>\n",
       "      <td>7</td>\n",
       "      <td>13</td>\n",
       "      <td>1356119</td>\n",
       "    </tr>\n",
       "  </tbody>\n",
       "</table>\n",
       "<p>4 rows × 85 columns</p>\n",
       "</div>"
      ],
      "text/plain": [
       "age                     16.0  17.0   18.0   19.0   20.0   21.0   22.0   23.0  \\\n",
       "fashion_news_frequency                                                         \n",
       "Monthly                    0     0      0      6     10     16     16     26   \n",
       "None                      86  6405  16216  22646  33292  40891  31905  35318   \n",
       "Regularly                 75  2987   8107  15055  21894  26623  19948  19523   \n",
       "All                      161  9392  24323  37707  55196  67530  51869  54867   \n",
       "\n",
       "age                      24.0   25.0  ...  91.0  92.0  93.0  94.0  95.0  96.0  \\\n",
       "fashion_news_frequency                ...                                       \n",
       "Monthly                    22     31  ...     0     0     0     0     0     0   \n",
       "None                    37744  37778  ...    12    10     4     2     8     3   \n",
       "Regularly               18358  17180  ...     4     7     0     1     2     0   \n",
       "All                     56124  54989  ...    16    17     4     3    10     3   \n",
       "\n",
       "age                     97.0  98.0  99.0      All  \n",
       "fashion_news_frequency                             \n",
       "Monthly                    0     0     0      841  \n",
       "None                       3     5     8   879067  \n",
       "Regularly                  1     2     5   476211  \n",
       "All                        4     7    13  1356119  \n",
       "\n",
       "[4 rows x 85 columns]"
      ]
     },
     "execution_count": 16,
     "metadata": {},
     "output_type": "execute_result"
    }
   ],
   "source": [
    "#fashion news in relation to age \n",
    "pd.crosstab(df['fashion_news_frequency'], df['age'], margins=True)"
   ]
  },
  {
   "cell_type": "code",
   "execution_count": 17,
   "metadata": {},
   "outputs": [
    {
     "data": {
      "text/plain": [
       "<seaborn.axisgrid.FacetGrid at 0x141f7c5b0>"
      ]
     },
     "execution_count": 17,
     "metadata": {},
     "output_type": "execute_result"
    },
    {
     "data": {
      "image/png": "[encoded data removed]",
      "text/plain": [
       "<Figure size 1221.42x360 with 3 Axes>"
      ]
     },
     "metadata": {},
     "output_type": "display_data"
    }
   ],
   "source": [
    "#fashion news frequency in relation to age \n",
    "sns.displot(data=df, x=\"age\", hue=\"fashion_news_frequency\", col=\"fashion_news_frequency\")\n",
    "\n",
    "#the highest amount of customers don't receive fashion news\n",
    "#There are almost no people that receive fashion news monthly"
   ]
  },
  {
   "cell_type": "markdown",
   "metadata": {},
   "source": [
    "README file submission for customers\n"
   ]
  },
  {
   "cell_type": "markdown",
   "metadata": {},
   "source": [
    "In the customer section of this project we have explored the following research questions:\n",
    "What is the most frequent age of H&M customers?\n",
    "What is the distribution of the ages of H&M customers? \n",
    "What is the most frequent postal code? \n",
    "How many customers have a club membership?\n",
    "What kind of fashion news frequency is most popular with what club membership?\n",
    "How many people receive fashion news? \n",
    "What is the spread of fashion news in contrast to club member status?\n",
    "What is the relation between receiving fashion news and the customers age?\n",
    "\n",
    "We have expressed the data in different ways, varying from plots to tables. With this research, we try to create a better overview of the customers shopping at H&M.\n",
    "\n"
   ]
  }
 ],
 "metadata": {
  "colab": {
   "collapsed_sections": [],
   "name": "assignment3.ipynb",
   "provenance": []
  },
  "kernelspec": {
   "display_name": "Python 3 (ipykernel)",
   "language": "python",
   "name": "python3"
  },
  "language_info": {
   "codemirror_mode": {
    "name": "ipython",
    "version": 3
   },
   "file_extension": ".py",
   "mimetype": "text/x-python",
   "name": "python",
   "nbconvert_exporter": "python",
   "pygments_lexer": "ipython3",
   "version": "3.9.7"
  }
 },
 "nbformat": 4,
 "nbformat_minor": 1
}
